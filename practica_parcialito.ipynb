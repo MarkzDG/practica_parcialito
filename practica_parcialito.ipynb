{
 "cells": [
  {
   "cell_type": "markdown",
   "metadata": {},
   "source": [
    "# Parcialito Cálculo Numérico\n",
    "**FCEyN - UBA**"
   ]
  },
  {
   "cell_type": "code",
   "execution_count": null,
   "metadata": {},
   "outputs": [],
   "source": [
    "import numpy as np\n",
    "import matplotlib.pyplot as plt"
   ]
  },
  {
   "cell_type": "markdown",
   "metadata": {},
   "source": [
    "## **Ejercicio 1: Método de Gauss-Seidel**\n",
    "Resolver Ax = b con A = [[4,-1,0],[2,7,1],[0,-3,5]], b = [15,20,10]"
   ]
  },
  {
   "cell_type": "code",
   "execution_count": null,
   "metadata": {},
   "outputs": [],
   "source": [
    "def gauss_seidel(A, b, x0, tol, max_iter):\n",
    "    n = len(A)\n",
    "    x = x0.copy()\n",
    "    \n",
    "    for k in range(max_iter):\n",
    "        x_ant = x.copy()\n",
    "        \n",
    "        for i in range(n):\n",
    "            suma = 0\n",
    "            for j in range(n):\n",
    "                if i != j:\n",
    "                    suma += A[i,j] * x[j]\n",
    "            x[i] = (b[i] - suma) / A[i,i]\n",
    "        \n",
    "        if np.linalg.norm(x - x_ant) < tol:\n",
    "            return x, k+1\n",
    "    \n",
    "    return x, max_iter"
   ]
  },
  {
   "cell_type": "code",
   "execution_count": null,
   "metadata": {},
   "outputs": [],
   "source": [
    "A = np.array([[4,-1,0],[2,7,1],[0,-3,5]], dtype=float)\n",
    "b = np.array([15,20,10], dtype=float)\n",
    "x0 = np.array([0,0,0], dtype=float)\n",
    "tol = 1e-6\n",
    "max_iter = 100\n",
    "\n",
    "sol, iter = gauss_seidel(A, b, x0, tol, max_iter)\n",
    "print(f\"Solución: {sol}\")\n",
    "print(f\"Iteraciones: {iter}\")\n",
    "print(f\"Verificación Ax-b: {np.linalg.norm(A@sol - b)}\")"
   ]
  },
  {
   "cell_type": "markdown",
   "metadata": {},
   "source": [
    "## **Ejercicio 2: Método de Euler - EDO**\n",
    "Resolver y' = 2t - y + 1, y(0) = 0 en [0,2] con h=0.1"
   ]
  },
  {
   "cell_type": "code",
   "execution_count": null,
   "metadata": {},
   "outputs": [],
   "source": [
    "def euler(f, t0, tf, y0, h):\n",
    "    t = np.arange(t0, tf + h, h)\n",
    "    y = np.zeros(len(t))\n",
    "    y[0] = y0\n",
    "    \n",
    "    for i in range(1, len(t)):\n",
    "        y[i] = y[i-1] + h * f(t[i-1], y[i-1])\n",
    "    \n",
    "    return t, y"
   ]
  },
  {
   "cell_type": "code",
   "execution_count": null,
   "metadata": {},
   "outputs": [],
   "source": [
    "def f(t, y):\n",
    "    return 2*t - y + 1\n",
    "\n",
    "t, y = euler(f, 0, 2, 0, 0.1)\n",
    "\n",
    "plt.plot(t, y)\n",
    "plt.xlabel('t')\n",
    "plt.ylabel('y(t)')\n",
    "plt.title('Solución EDO')\n",
    "plt.grid(True)\n",
    "plt.show()\n",
    "\n",
    "idx = np.where(np.abs(t - 1.0) < 0.01)[0][0]\n",
    "print(f\"y(1) = {y[idx]:.4f}\")"
   ]
  },
  {
   "cell_type": "markdown",
   "metadata": {},
   "source": [
    "## **Ejercicio 3: Estimación Norma de Matriz**\n",
    "Estimar norma-2 de A = [[3,1,-1],[1,4,2],[-1,2,5]]"
   ]
  },
  {
   "cell_type": "code",
   "execution_count": null,
   "metadata": {},
   "outputs": [],
   "source": [
    "def estimar_norma(A, n_iter):\n",
    "    s = np.zeros(n_iter)\n",
    "    s[0] = 0\n",
    "    \n",
    "    for k in range(1, n_iter):\n",
    "        x = np.random.randn(A.shape[0])\n",
    "        x = x / np.linalg.norm(x)\n",
    "        \n",
    "        Ax = A @ x\n",
    "        norma_Ax = np.linalg.norm(Ax)\n",
    "        \n",
    "        s[k] = max(s[k-1], norma_Ax)\n",
    "    \n",
    "    return s"
   ]
  },
  {
   "cell_type": "code",
   "execution_count": null,
   "metadata": {},
   "outputs": [],
   "source": [
    "A = np.array([[3,1,-1],[1,4,2],[-1,2,5]], dtype=float)\n",
    "\n",
    "s = estimar_norma(A, 50)\n",
    "\n",
    "plt.plot(s)\n",
    "plt.axhline(y=np.linalg.norm(A, 2), color='r', linestyle='--', label='Norma exacta')\n",
    "plt.xlabel('Iteración')\n",
    "plt.ylabel('Estimación')\n",
    "plt.legend()\n",
    "plt.show()\n",
    "\n",
    "print(f\"Norma estimada: {s[-1]:.6f}\")\n",
    "print(f\"Norma exacta: {np.linalg.norm(A, 2):.6f}\")"
   ]
  },
  {
   "cell_type": "markdown",
   "metadata": {},
   "source": [
    "## **Ejercicio 4: Diferencias Finitas**\n",
    "Resolver -u'' + 2u = x² en [0,1] con u(0)=1, u(1)=3"
   ]
  },
  {
   "cell_type": "code",
   "execution_count": null,
   "metadata": {},
   "outputs": [],
   "source": [
    "def dif_finitas(N, alpha, u0, u1, f_func):\n",
    "    h = 1.0 / (N + 1)\n",
    "    x = np.linspace(0, 1, N + 2)\n",
    "    \n",
    "    # Matriz A\n",
    "    A = np.zeros((N, N))\n",
    "    for i in range(N):\n",
    "        A[i, i] = -2/h**2 + alpha\n",
    "        if i > 0:\n",
    "            A[i, i-1] = 1/h**2\n",
    "        if i < N-1:\n",
    "            A[i, i+1] = 1/h**2\n",
    "    \n",
    "    # Vector b\n",
    "    b = np.zeros(N)\n",
    "    for i in range(N):\n",
    "        b[i] = f_func(x[i+1])\n",
    "    \n",
    "    # Condiciones frontera\n",
    "    b[0] -= u0 / h**2\n",
    "    b[-1] -= u1 / h**2\n",
    "    \n",
    "    u_int = np.linalg.solve(A, b)\n",
    "    u = np.concatenate([[u0], u_int, [u1]])\n",
    "    \n",
    "    return x, u"
   ]
  },
  {
   "cell_type": "code",
   "execution_count": null,
   "metadata": {},
   "outputs": [],
   "source": [
    "def f(x):\n",
    "    return x**2\n",
    "\n",
    "x, u = dif_finitas(10, 2.0, 1, 3, f)\n",
    "\n",
    "plt.plot(x, u, 'b-o')\n",
    "plt.xlabel('x')\n",
    "plt.ylabel('u(x)')\n",
    "plt.title('Diferencias Finitas')\n",
    "plt.grid(True)\n",
    "plt.show()\n",
    "\n",
    "idx = len(x)//2\n",
    "print(f\"u(0.5) = {u[idx]:.4f}\")"
   ]
  },
  {
   "cell_type": "markdown",
   "metadata": {},
   "source": [
    "## **Ejercicio 5: Sistema de EDOs**\n",
    "y1' = y2, y2' = -y1 - 0.1*y2 con y1(0)=1, y2(0)=0"
   ]
  },
  {
   "cell_type": "code",
   "execution_count": null,
   "metadata": {},
   "outputs": [],
   "source": [
    "def euler_sistema(F, t0, tf, y0, h):\n",
    "    t = np.arange(t0, tf + h, h)\n",
    "    y = np.zeros((len(y0), len(t)))\n",
    "    y[:, 0] = y0\n",
    "    \n",
    "    for i in range(1, len(t)):\n",
    "        y[:, i] = y[:, i-1] + h * F(t[i-1], y[:, i-1])\n",
    "    \n",
    "    return t, y"
   ]
  },
  {
   "cell_type": "code",
   "execution_count": null,
   "metadata": {},
   "outputs": [],
   "source": [
    "def sistema(t, y):\n",
    "    y1, y2 = y[0], y[1]\n",
    "    dy1 = y2\n",
    "    dy2 = -y1 - 0.1*y2\n",
    "    return np.array([dy1, dy2])\n",
    "\n",
    "t, Y = euler_sistema(sistema, 0, 10, np.array([1, 0]), 0.05)\n",
    "\n",
    "plt.figure(figsize=(10, 6))\n",
    "plt.subplot(1, 2, 1)\n",
    "plt.plot(t, Y[0, :], label='y1(t)')\n",
    "plt.plot(t, Y[1, :], label='y2(t)')\n",
    "plt.legend()\n",
    "plt.grid(True)\n",
    "\n",
    "plt.subplot(1, 2, 2)\n",
    "plt.plot(Y[0, :], Y[1, :])\n",
    "plt.xlabel('y1')\n",
    "plt.ylabel('y2')\n",
    "plt.title('Retrato de fase')\n",
    "plt.grid(True)\n",
    "plt.show()"
   ]
  },
  {
   "cell_type": "markdown",
   "metadata": {},
   "source": [
    "## **Ejercicio 6: Eliminación Gaussiana**\n",
    "Resolver Ax = b con A = [[2,1,-1],[4,5,3],[2,1,4]], b = [8,9,11]"
   ]
  },
  {
   "cell_type": "code",
   "execution_count": null,
   "metadata": {},
   "outputs": [],
   "source": [
    "def gauss_elim(A, b):\n",
    "    n = len(A)\n",
    "    A = A.copy().astype(float)\n",
    "    b = b.copy().astype(float)\n",
    "    \n",
    "    # Eliminación\n",
    "    for k in range(n-1):\n",
    "        for i in range(k+1, n):\n",
    "            factor = A[i, k] / A[k, k]\n",
    "            for j in range(k, n):\n",
    "                A[i, j] -= factor * A[k, j]\n",
    "            b[i] -= factor * b[k]\n",
    "    \n",
    "    # Sustitución hacia atrás\n",
    "    x = np.zeros(n)\n",
    "    for i in range(n-1, -1, -1):\n",
    "        x[i] = b[i]\n",
    "        for j in range(i+1, n):\n",
    "            x[i] -= A[i, j] * x[j]\n",
    "        x[i] /= A[i, i]\n",
    "    \n",
    "    return A, x"
   ]
  },
  {
   "cell_type": "code",
   "execution_count": null,
   "metadata": {},
   "outputs": [],
   "source": [
    "A = np.array([[2,1,-1],[4,5,3],[2,1,4]])\n",
    "b = np.array([8,9,11])\n",
    "\n",
    "A_esc, x = gauss_elim(A, b)\n",
    "\n",
    "print(\"Matriz escalonada:\")\n",
    "print(A_esc)\n",
    "print(f\"\\nSolución: {x}\")\n",
    "print(f\"Verificación: {np.allclose(A @ x, b)}\")"
   ]
  },
  {
   "cell_type": "markdown",
   "metadata": {},
   "source": [
    "## **Ejercicio 7: EDO con parámetro**\n",
    "y' = (y-3)(sin²(t)-0.3) para diferentes condiciones iniciales"
   ]
  },
  {
   "cell_type": "code",
   "execution_count": null,
   "metadata": {},
   "outputs": [],
   "source": [
    "def f_param(t, y):\n",
    "    return (y - 3) * (np.sin(t)**2 - 0.3)\n",
    "\n",
    "plt.figure(figsize=(10, 6))\n",
    "for k in [0, 1, 2, 3, 4, 5, 6]:\n",
    "    t, y = euler(f_param, 0, 5, k, 0.01)\n",
    "    plt.plot(t, y, label=f'y(0)={k}')\n",
    "\n",
    "plt.axhline(y=3, color='black', linestyle='--', alpha=0.7, label='y=3')\n",
    "plt.xlim(0, 5)\n",
    "plt.ylim(-2, 8)\n",
    "plt.legend()\n",
    "plt.grid(True)\n",
    "plt.show()"
   ]
  },
  {
   "cell_type": "markdown",
   "metadata": {},
   "source": [
    "## **Ejercicio 8: Método de Jacobi**\n",
    "Resolver Ax = b con A = [[10,-1,2],[-1,11,-1],[2,-1,10]], b = [6,25,-11]"
   ]
  },
  {
   "cell_type": "code",
   "execution_count": null,
   "metadata": {},
   "outputs": [],
   "source": [
    "def jacobi(A, b, x0, tol, max_iter):\n",
    "    n = len(A)\n",
    "    x = x0.copy()\n",
    "    \n",
    "    for k in range(max_iter):\n",
    "        x_nuevo = np.zeros(n)\n",
    "        \n",
    "        for i in range(n):\n",
    "            suma = 0\n",
    "            for j in range(n):\n",
    "                if i != j:\n",
    "                    suma += A[i, j] * x[j]\n",
    "            x_nuevo[i] = (b[i] - suma) / A[i, i]\n",
    "        \n",
    "        if np.linalg.norm(x_nuevo - x) < tol:\n",
    "            return x_nuevo, k+1, True\n",
    "        \n",
    "        x = x_nuevo.copy()\n",
    "    \n",
    "    return x, max_iter, False"
   ]
  },
  {
   "cell_type": "code",
   "execution_count": null,
   "metadata": {},
   "outputs": [],
   "source": [
    "A = np.array([[10,-1,2],[-1,11,-1],[2,-1,10]], dtype=float)\n",
    "b = np.array([6,25,-11], dtype=float)\n",
    "x0 = np.array([0,0,0], dtype=float)\n",
    "\n",
    "sol, iter, convergio = jacobi(A, b, x0, 1e-8, 1000)\n",
    "\n",
    "if convergio:\n",
    "    print(f\"Convergió en {iter} iteraciones\")\n",
    "    print(f\"Solución: {sol}\")\n",
    "else:\n",
    "    print(\"No convergió\")\n",
    "    print(f\"Última aproximación: {sol}\")"
   ]
  },
  {
   "cell_type": "markdown",
   "metadata": {},
   "source": [
    "## **Ejercicio 9: Matriz Inversa**\n",
    "Calcular A⁻¹ para A = [[4,7],[2,6]]"
   ]
  },
  {
   "cell_type": "code",
   "execution_count": null,
   "metadata": {},
   "outputs": [],
   "source": [
    "def matriz_inv(A):\n",
    "    n = len(A)\n",
    "    A_aug = np.hstack([A.copy().astype(float), np.eye(n)])\n",
    "    \n",
    "    # Eliminación Gauss-Jordan\n",
    "    for i in range(n):\n",
    "        # Pivoteo\n",
    "        A_aug[i] = A_aug[i] / A_aug[i, i]\n",
    "        \n",
    "        for j in range(n):\n",
    "            if i != j:\n",
    "                A_aug[j] = A_aug[j] - A_aug[j, i] * A_aug[i]\n",
    "    \n",
    "    return A_aug[:, n:]"
   ]
  },
  {
   "cell_type": "code",
   "execution_count": null,
   "metadata": {},
   "outputs": [],
   "source": [
    "A = np.array([[4,7],[2,6]])\n",
    "\n",
    "det_A = np.linalg.det(A)\n",
    "print(f\"Determinante: {det_A}\")\n",
    "\n",
    "if abs(det_A) > 1e-10:\n",
    "    A_inv = matriz_inv(A)\n",
    "    print(\"\\nA inversa:\")\n",
    "    print(A_inv)\n",
    "    \n",
    "    print(\"\\nVerificación A*A_inv:\")\n",
    "    print(A @ A_inv)\n",
    "    \n",
    "    print(\"\\nComparación con numpy:\")\n",
    "    print(np.linalg.inv(A))\n",
    "else:\n",
    "    print(\"Matriz no invertible\")"
   ]
  },
  {
   "cell_type": "markdown",
   "metadata": {},
   "source": [
    "## **Ejercicio 10: Convergencia Norma**\n",
    "Para A = [[1,2,0],[0,3,1],[1,0,2]] estudiar convergencia"
   ]
  },
  {
   "cell_type": "code",
   "execution_count": null,
   "metadata": {},
   "outputs": [],
   "source": [
    "A = np.array([[1,2,0],[0,3,1],[1,0,2]], dtype=float)\n",
    "\n",
    "s = estimar_norma(A, 100)\n",
    "norma_exacta = np.linalg.norm(A, 2)\n",
    "\n",
    "plt.figure(figsize=(12, 4))\n",
    "\n",
    "plt.subplot(1, 2, 1)\n",
    "plt.plot(s)\n",
    "plt.axhline(y=norma_exacta, color='r', linestyle='--', label='Norma exacta')\n",
    "plt.xlabel('k')\n",
    "plt.ylabel('s_k')\n",
    "plt.title('Convergencia completa')\n",
    "plt.legend()\n",
    "plt.grid(True)\n",
    "\n",
    "plt.subplot(1, 2, 2)\n",
    "plt.plot(s[:20], 'o-')\n",
    "plt.axhline(y=norma_exacta, color='r', linestyle='--', label='Norma exacta')\n",
    "plt.xlabel('k')\n",
    "plt.ylabel('s_k')\n",
    "plt.title('Primeras 20 iteraciones')\n",
    "plt.legend()\n",
    "plt.grid(True)\n",
    "\n",
    "plt.tight_layout()\n",
    "plt.show()\n",
    "\n",
    "print(f\"Valor final: {s[-1]:.6f}\")\n",
    "print(f\"Norma exacta: {norma_exacta:.6f}\")\n",
    "print(f\"Es monótona: {all(s[i] <= s[i+1] for i in range(len(s)-1))}\")"
   ]
  }
 ],
 "metadata": {
  "kernelspec": {
   "display_name": "Python 3",
   "language": "python",
   "name": "python3"
  },
  "language_info": {
   "codemirror_mode": {
    "name": "ipython",
    "version": 3
   },
   "file_extension": ".py",
   "mimetype": "text/x-python",
   "name": "python",
   "nbconvert_exporter": "python",
   "pygments_lexer": "ipython3",
   "version": "3.8.5"
  }
 },
 "nbformat": 4,
 "nbformat_minor": 4
}